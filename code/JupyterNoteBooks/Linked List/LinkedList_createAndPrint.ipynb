{
 "cells": [
  {
   "cell_type": "code",
   "execution_count": 1,
   "id": "e2e13f07",
   "metadata": {},
   "outputs": [
    {
     "name": "stdout",
     "output_type": "stream",
     "text": [
      "[111110, 11110, 1110, 110, 10, 0]\n"
     ]
    }
   ],
   "source": [
    "class Node:\n",
    "    def __init__(self, new_data):\n",
    "        self.data = new_data\n",
    "        self.next = None\n",
    " \n",
    " \n",
    "class LinkedList():\n",
    "    def __init__(self):\n",
    "        self.head = None\n",
    "        self.tail = None\n",
    "        \n",
    "    def __iter__(self):\n",
    "        node = self.head\n",
    "        while node:\n",
    "            yield node\n",
    "            node = node.next\n",
    "        \n",
    "    # CreateNode and make linked list\n",
    "    def push(self, new_data):\n",
    "        new_node = Node(new_data)\n",
    "        new_node.next = self.head\n",
    "        self.head = new_node\n",
    "        \n",
    "        \n",
    "# if __name__ == \"__main__\":\n",
    "ll  = LinkedList()\n",
    "ll.push(0)\n",
    "ll.push(10)\n",
    "ll.push(110)\n",
    "ll.push(1110)\n",
    "ll.push(11110)\n",
    "ll.push(111110)\n",
    "print ([node.data for node in ll])"
   ]
  },
  {
   "cell_type": "code",
   "execution_count": 46,
   "id": "c91ed0fc",
   "metadata": {},
   "outputs": [
    {
     "name": "stdout",
     "output_type": "stream",
     "text": [
      "['Alice', 'Chad', 'Debra']\n"
     ]
    }
   ],
   "source": [
    "class Node(object):\n",
    "    def __init__(self, value):\n",
    "        self.value = value\n",
    "        self.next = None\n",
    "\n",
    "class SinglyLinkedList(object):\n",
    "    def __init__(self):\n",
    "        self.head = None\n",
    "        self.tail = None\n",
    "\n",
    "    def __iter__(self):\n",
    "        node = linked_list.head\n",
    "        while node:\n",
    "            yield node\n",
    "            node = node.next\n",
    "\n",
    "    def add(self, node):\n",
    "        if self.head:\n",
    "            self.tail.next = node\n",
    "        else:\n",
    "            self.head = node\n",
    "\n",
    "        self.tail = node\n",
    "\n",
    "linked_list = SinglyLinkedList()\n",
    "\n",
    "linked_list.add(Node('Alice'))\n",
    "linked_list.add(Node('Chad'))\n",
    "linked_list.add(Node('Debra'))\n",
    "\n",
    "print ([node.value for node in linked_list])  # ['Alice', 'Chad', 'Debra']"
   ]
  },
  {
   "cell_type": "code",
   "execution_count": null,
   "id": "859a06cc",
   "metadata": {},
   "outputs": [],
   "source": []
  },
  {
   "cell_type": "code",
   "execution_count": null,
   "id": "f86f3a9c",
   "metadata": {},
   "outputs": [],
   "source": []
  }
 ],
 "metadata": {
  "kernelspec": {
   "display_name": "Python 3 (ipykernel)",
   "language": "python",
   "name": "python3"
  },
  "language_info": {
   "codemirror_mode": {
    "name": "ipython",
    "version": 3
   },
   "file_extension": ".py",
   "mimetype": "text/x-python",
   "name": "python",
   "nbconvert_exporter": "python",
   "pygments_lexer": "ipython3",
   "version": "3.11.2"
  }
 },
 "nbformat": 4,
 "nbformat_minor": 5
}
