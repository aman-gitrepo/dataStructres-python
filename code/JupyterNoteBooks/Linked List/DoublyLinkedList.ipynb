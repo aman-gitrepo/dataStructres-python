{
 "cells": [
  {
   "cell_type": "code",
   "execution_count": 1,
   "id": "fecf0576",
   "metadata": {},
   "outputs": [],
   "source": [
    "# type declaration for doubly linked list\n",
    "\n",
    "class Node:\n",
    "    def __init__(self, data=None,next=None, prev =None):\n",
    "        self.data = data\n",
    "        self.next = next\n",
    "        self.prev = prev\n",
    "    def setData(self,data):\n",
    "        self.data = data\n",
    "    def getData(self):\n",
    "        return self.data\n",
    "    \n",
    "    def setNext(self,next):\n",
    "        self.next = next\n",
    "    def getNext(self):\n",
    "        return self.next\n",
    "    def hasNext(self):\n",
    "        return self!=None\n",
    "    \n",
    "    def setPrev(self,prev):\n",
    "        self.prev = prev\n",
    "    def getPrev(self):\n",
    "        return self.prev\n",
    "    def hasPrev(self):\n",
    "        return self.prev != None\n",
    "    \n",
    "    def __str__(self):\n",
    "        return \"Node[Data = %s]\"%(self.data)\n",
    "    "
   ]
  },
  {
   "cell_type": "code",
   "execution_count": 2,
   "id": "861e5c6a",
   "metadata": {},
   "outputs": [
    {
     "name": "stdout",
     "output_type": "stream",
     "text": [
      "Hello\n"
     ]
    }
   ],
   "source": [
    "print('Hello')"
   ]
  }
 ],
 "metadata": {
  "kernelspec": {
   "display_name": "Python 3 (ipykernel)",
   "language": "python",
   "name": "python3"
  },
  "language_info": {
   "codemirror_mode": {
    "name": "ipython",
    "version": 3
   },
   "file_extension": ".py",
   "mimetype": "text/x-python",
   "name": "python",
   "nbconvert_exporter": "python",
   "pygments_lexer": "ipython3",
   "version": "3.11.2"
  }
 },
 "nbformat": 4,
 "nbformat_minor": 5
}
