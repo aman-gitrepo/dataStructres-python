{
 "cells": [
  {
   "cell_type": "markdown",
   "id": "a229ce04",
   "metadata": {},
   "source": [
    "Generate a ll the binary strings with n bits. Assume A[O .. n - 1 I is an array of size n."
   ]
  },
  {
   "cell_type": "code",
   "execution_count": 3,
   "id": "1632ec3e",
   "metadata": {},
   "outputs": [
    {
     "name": "stdout",
     "output_type": "stream",
     "text": [
      "['0000', '0001', '0010', '0011', '0100', '0101', '0110', '0111', '1000', '1001', '1010', '1011', '1100', '1101', '1110', '1111']\n"
     ]
    }
   ],
   "source": [
    "def appendAtBeginningFrom(x,L):\n",
    "    return [x + element for element in L]\n",
    "def bitStrings(n):\n",
    "    if n == 0:\n",
    "        return ()\n",
    "    if n == 1:\n",
    "        return [\"0\" , \"1\"]\n",
    "    else:\n",
    "        return (appendAtBeginningFrom('0' , bitStrings(n-1)) + appendAtBeginningFrom('1',bitStrings(n-1)))\n",
    "print(bitStrings(4))\n"
   ]
  },
  {
   "cell_type": "code",
   "execution_count": 1,
   "id": "383b628c",
   "metadata": {},
   "outputs": [
    {
     "name": "stdout",
     "output_type": "stream",
     "text": [
      "['0000', '0001', '0010', '0011', '0100', '0101', '0110', '0111', '1000', '1001', '1010', '1011', '1100', '1101', '1110', '1111']\n"
     ]
    }
   ],
   "source": [
    "def bitStrings(n):\n",
    "    if n == 0:\n",
    "        return ''\n",
    "    if n == 1:\n",
    "        return [\"0\" , \"1\"]\n",
    "    return [digit + bitString for digit in ['0','1'] for bitString in bitStrings(n-1)]\n",
    "print(bitStrings(4))"
   ]
  },
  {
   "cell_type": "code",
   "execution_count": 21,
   "id": "190e7e73",
   "metadata": {},
   "outputs": [],
   "source": [
    "digit + bitString for digit in ['0','1'] for bitString in bitStrings(3)\n",
    "=>['0000', '0001', '0010', '0011', '0100', '0101', '0110', '0111', '1000', '1001', '1010', '1011', '1100', '1101', '1110', '1111']\n",
    "digit + bitString for digit in ['0','1'] for bitString in bitStrings(2)\n",
    "=> ['000', '001', '010', '011', '100', '101', '110', '111']\n",
    "digit + bitString for digit in ['0','1'] for bitString in [0,1]\n",
    "=> ['00', '01', '10', '11']\n",
    "digit + bitString for digit in ['0','1'] for bitString in bitStrings(0) \n",
    "=> [0,1]"
   ]
  },
  {
   "cell_type": "code",
   "execution_count": 37,
   "id": "804e54c7",
   "metadata": {},
   "outputs": [
    {
     "data": {
      "text/plain": [
       "16"
      ]
     },
     "execution_count": 37,
     "metadata": {},
     "output_type": "execute_result"
    }
   ],
   "source": [
    "len(['0000', '0001', '0010', '0011', '0100', '0101', '0110', '0111', '1000', '1001', '1010', '1011', '1100', '1101', '1110', '1111'])"
   ]
  }
 ],
 "metadata": {
  "kernelspec": {
   "display_name": "Python 3 (ipykernel)",
   "language": "python",
   "name": "python3"
  },
  "language_info": {
   "codemirror_mode": {
    "name": "ipython",
    "version": 3
   },
   "file_extension": ".py",
   "mimetype": "text/x-python",
   "name": "python",
   "nbconvert_exporter": "python",
   "pygments_lexer": "ipython3",
   "version": "3.11.2"
  }
 },
 "nbformat": 4,
 "nbformat_minor": 5
}
