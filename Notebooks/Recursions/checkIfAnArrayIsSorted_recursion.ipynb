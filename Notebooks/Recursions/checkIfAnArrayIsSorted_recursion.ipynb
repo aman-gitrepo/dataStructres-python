{
 "cells": [
  {
   "cell_type": "code",
   "execution_count": 3,
   "id": "a01efe3f",
   "metadata": {},
   "outputs": [
    {
     "name": "stdout",
     "output_type": "stream",
     "text": [
      "False\n"
     ]
    }
   ],
   "source": [
    "def isArraySortedOrder(A):\n",
    "    if len(A) == 1:\n",
    "        return True\n",
    "    return A[0]<=A[1] and isArraySortedOrder(A[1:])\n",
    "A= [ 1000 , 127, 220, 246, 277, 321, 454, 534, 565, 933 ]\n",
    "\n",
    "print(isArraySortedOrder(A))"
   ]
  }
 ],
 "metadata": {
  "kernelspec": {
   "display_name": "Python 3 (ipykernel)",
   "language": "python",
   "name": "python3"
  },
  "language_info": {
   "codemirror_mode": {
    "name": "ipython",
    "version": 3
   },
   "file_extension": ".py",
   "mimetype": "text/x-python",
   "name": "python",
   "nbconvert_exporter": "python",
   "pygments_lexer": "ipython3",
   "version": "3.11.2"
  }
 },
 "nbformat": 4,
 "nbformat_minor": 5
}
