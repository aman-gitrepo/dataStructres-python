{
 "cells": [
  {
   "cell_type": "code",
   "execution_count": 15,
   "id": "9f9b17a0",
   "metadata": {},
   "outputs": [
    {
     "name": "stdout",
     "output_type": "stream",
     "text": [
      "Move:: disk 1 from peg 1 to peg 2\n",
      "Move:: disk 2 from peg 1 to peg 3\n",
      "Move:: disk 1 from peg 2 to peg 3\n",
      "Move:: disk 3 from peg 1 to peg 2\n",
      "Move:: disk 1 from peg 3 to peg 1\n",
      "Move:: disk 2 from peg 3 to peg 2\n",
      "Move:: disk 1 from peg 1 to peg 2\n",
      "Move:: disk 4 from peg 1 to peg 3\n",
      "Move:: disk 1 from peg 2 to peg 3\n",
      "Move:: disk 2 from peg 2 to peg 1\n",
      "Move:: disk 1 from peg 3 to peg 1\n",
      "Move:: disk 3 from peg 2 to peg 3\n",
      "Move:: disk 1 from peg 1 to peg 2\n",
      "Move:: disk 2 from peg 1 to peg 3\n",
      "Move:: disk 1 from peg 2 to peg 3\n"
     ]
    }
   ],
   "source": [
    "def TowersOfHanoi(numberOfDisks, startPeg= 1, endPeg=3):\n",
    "    if numberOfDisks:\n",
    "        TowersOfHanoi(numberOfDisks-1, startPeg, 6-startPeg-endPeg)\n",
    "        print (\"Move:: disk %d from peg %d to peg %d\" % (numberOfDisks, startPeg, endPeg))\n",
    "        TowersOfHanoi(numberOfDisks-1, 6-startPeg-endPeg, endPeg)\n",
    "\n",
    "TowersOfHanoi(numberOfDisks=4)"
   ]
  }
 ],
 "metadata": {
  "kernelspec": {
   "display_name": "Python 3 (ipykernel)",
   "language": "python",
   "name": "python3"
  },
  "language_info": {
   "codemirror_mode": {
    "name": "ipython",
    "version": 3
   },
   "file_extension": ".py",
   "mimetype": "text/x-python",
   "name": "python",
   "nbconvert_exporter": "python",
   "pygments_lexer": "ipython3",
   "version": "3.11.2"
  }
 },
 "nbformat": 4,
 "nbformat_minor": 5
}
