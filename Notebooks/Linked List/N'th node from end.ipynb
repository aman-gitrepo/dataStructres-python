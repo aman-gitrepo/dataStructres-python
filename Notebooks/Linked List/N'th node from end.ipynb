{
 "cells": [
  {
   "cell_type": "code",
   "execution_count": 26,
   "id": "4885b45f",
   "metadata": {},
   "outputs": [
    {
     "name": "stdout",
     "output_type": "stream",
     "text": [
      "35\n"
     ]
    }
   ],
   "source": [
    "class Node:\n",
    "    def __init__(self, new_data):\n",
    "        self.data = new_data\n",
    "        self.next = None\n",
    " \n",
    " \n",
    "class LinkedList:\n",
    "    def __init__(self):\n",
    "        self.head = None\n",
    " \n",
    "    # CreateNode and make linked list\n",
    "    def push(self, new_data):\n",
    "        new_node = Node(new_data)\n",
    "        new_node.next = self.head\n",
    "        self.head = new_node\n",
    " \n",
    "    # Function to get the nth node from\n",
    "    # the last of a linked list\n",
    "    def printNthFromLast(self, n):\n",
    "        temp = self.head  # Used temp variable\n",
    " \n",
    "        length = 0\n",
    "        while temp is not None:\n",
    "            temp = temp.next\n",
    "            length += 1\n",
    " \n",
    "        # Print count\n",
    "        if n > length:  # If entered location is greater\n",
    "                       # than length of linked list\n",
    "            print('Location is greater than the' +\n",
    "                  ' length of LinkedList')\n",
    "            return\n",
    "        temp = self.head\n",
    "        for i in range(0, length - n):\n",
    "            temp = temp.next\n",
    "        print(temp.data)\n",
    " \n",
    " \n",
    "# Driver's Code\n",
    "if __name__ == \"__main__\":\n",
    "    llist = LinkedList()\n",
    "    llist.push(20)\n",
    "    llist.push(4)\n",
    "    llist.push(15)\n",
    "    llist.push(35)\n",
    " \n",
    "    llist.printNthFromLast(4)"
   ]
  },
  {
   "cell_type": "code",
   "execution_count": null,
   "id": "898bd015",
   "metadata": {},
   "outputs": [],
   "source": []
  }
 ],
 "metadata": {
  "kernelspec": {
   "display_name": "Python 3 (ipykernel)",
   "language": "python",
   "name": "python3"
  },
  "language_info": {
   "codemirror_mode": {
    "name": "ipython",
    "version": 3
   },
   "file_extension": ".py",
   "mimetype": "text/x-python",
   "name": "python",
   "nbconvert_exporter": "python",
   "pygments_lexer": "ipython3",
   "version": "3.11.2"
  }
 },
 "nbformat": 4,
 "nbformat_minor": 5
}
